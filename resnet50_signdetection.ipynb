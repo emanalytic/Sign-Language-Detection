{
  "metadata": {
    "kernelspec": {
      "language": "python",
      "display_name": "Python 3",
      "name": "python3"
    },
    "language_info": {
      "name": "python",
      "version": "3.10.14",
      "mimetype": "text/x-python",
      "codemirror_mode": {
        "name": "ipython",
        "version": 3
      },
      "pygments_lexer": "ipython3",
      "nbconvert_exporter": "python",
      "file_extension": ".py"
    },
    "kaggle": {
      "accelerator": "gpu",
      "dataSources": [
        {
          "sourceId": 9103414,
          "sourceType": "datasetVersion",
          "datasetId": 5494158
        },
        {
          "sourceId": 9428709,
          "sourceType": "datasetVersion",
          "datasetId": 5727919
        }
      ],
      "dockerImageVersionId": 30761,
      "isInternetEnabled": true,
      "language": "python",
      "sourceType": "notebook",
      "isGpuEnabled": true
    },
    "colab": {
      "name": "⟬SignLanguageDetection🖖-Pytorch-Resnet50✨-1.0Acc",
      "provenance": [],
      "include_colab_link": true
    }
  },
  "nbformat_minor": 0,
  "nbformat": 4,
  "cells": [
    {
      "cell_type": "markdown",
      "metadata": {
        "id": "view-in-github",
        "colab_type": "text"
      },
      "source": [
        "<a href=\"https://colab.research.google.com/github/emanalytic/Sign-Language-Detection/blob/main/resnet50_signdetection.ipynb\" target=\"_parent\"><img src=\"https://colab.research.google.com/assets/colab-badge.svg\" alt=\"Open In Colab\"/></a>"
      ]
    },
    {
      "source": [
        "# IMPORTANT: SOME KAGGLE DATA SOURCES ARE PRIVATE\n",
        "# RUN THIS CELL IN ORDER TO IMPORT YOUR KAGGLE DATA SOURCES.\n",
        "import kagglehub\n",
        "kagglehub.login()\n"
      ],
      "metadata": {
        "id": "uisMGA5Ek18P"
      },
      "cell_type": "code",
      "outputs": [],
      "execution_count": null
    },
    {
      "cell_type": "code",
      "source": [
        "# This Python 3 environment comes with many helpful analytics libraries installed\n",
        "# It is defined by the kaggle/python Docker image: https://github.com/kaggle/docker-python\n",
        "# For example, here's several helpful packages to load\n",
        "\n",
        "import numpy as np # linear algebra\n",
        "import pandas as pd # data processing, CSV file I/O (e.g. pd.read_csv)\n",
        "\n",
        "# Input data files are available in the read-only \"../input/\" directory\n",
        "# For example, running this (by clicking run or pressing Shift+Enter) will list all files under the input directory\n",
        "\n",
        "import os\n",
        "for dirname, _, filenames in os.walk('/kaggle/input'):\n",
        "    for filename in filenames:\n",
        "        os.path.join(dirname, filename)\n",
        "\n",
        "# You can write up to 20GB to the current directory (/kaggle/working/) that gets preserved as output when you create a version using \"Save & Run All\"\n",
        "# You can also write temporary files to /kaggle/temp/, but they won't be saved outside of the current session"
      ],
      "metadata": {
        "_uuid": "8f2839f25d086af736a60e9eeb907d3b93b6e0e5",
        "_cell_guid": "b1076dfc-b9ad-4769-8c92-a6c4dae69d19",
        "execution": {
          "iopub.status.busy": "2024-09-18T14:53:25.737328Z",
          "iopub.execute_input": "2024-09-18T14:53:25.73769Z",
          "iopub.status.idle": "2024-09-18T14:53:32.848679Z",
          "shell.execute_reply.started": "2024-09-18T14:53:25.737656Z",
          "shell.execute_reply": "2024-09-18T14:53:32.84766Z"
        },
        "trusted": true,
        "id": "RI0G-JVqk18Y"
      },
      "execution_count": null,
      "outputs": []
    },
    {
      "cell_type": "code",
      "source": [
        "import cv2\n",
        "from PIL import *\n",
        "import matplotlib.pyplot as plt\n",
        "import glob\n",
        "import torch\n",
        "import torch.nn as nn\n",
        "from tqdm import tqdm\n",
        "import torch.optim as optim\n",
        "from torch.optim import lr_scheduler\n",
        "import torchvision\n",
        "from torchvision import datasets, models, transforms\n",
        "import matplotlib.pyplot as plt\n",
        "from torch.utils.data import Dataset, DataLoader\n",
        "import time\n",
        "from sklearn.model_selection import train_test_split\n",
        "from tempfile import TemporaryDirectory\n",
        "import torch.backends.cudnn as cudnn\n",
        "from sklearn.metrics import classification_report, confusion_matrix, accuracy_score, f1_score\n",
        "\n",
        "cudnn.benchmark = True\n",
        "plt.ion() ## interactive mode"
      ],
      "metadata": {
        "execution": {
          "iopub.status.busy": "2024-09-18T15:58:12.520481Z",
          "iopub.execute_input": "2024-09-18T15:58:12.521797Z",
          "iopub.status.idle": "2024-09-18T15:58:12.53182Z",
          "shell.execute_reply.started": "2024-09-18T15:58:12.521741Z",
          "shell.execute_reply": "2024-09-18T15:58:12.530885Z"
        },
        "trusted": true,
        "id": "eTWZdI8lk18a"
      },
      "execution_count": null,
      "outputs": []
    },
    {
      "cell_type": "code",
      "source": [
        "### Signs\n",
        "base_dir = '/kaggle/input/sign-language-detection-using-images/data'\n",
        "for e in os.scandir(base_dir):\n",
        "    if e.is_dir():\n",
        "        no_files = len(os.listdir(e.path))\n",
        "        print(f'{e.name}: {no_files} Images')"
      ],
      "metadata": {
        "execution": {
          "iopub.status.busy": "2024-09-18T14:53:50.916225Z",
          "iopub.execute_input": "2024-09-18T14:53:50.91661Z",
          "iopub.status.idle": "2024-09-18T14:53:50.951161Z",
          "shell.execute_reply.started": "2024-09-18T14:53:50.916572Z",
          "shell.execute_reply": "2024-09-18T14:53:50.950198Z"
        },
        "trusted": true,
        "id": "548iG-uOk18b"
      },
      "execution_count": null,
      "outputs": []
    },
    {
      "cell_type": "code",
      "source": [
        "## visualizing images from each class ###\n",
        "\n",
        "def display_img(base_dir, num_images=3):\n",
        "    class_names = os.listdir(base_dir)\n",
        "    fig, axs = plt.subplots(len(class_names), num_images, figsize=(15, len(class_names) * 3))\n",
        "\n",
        "    for i, class_name in enumerate(class_names):\n",
        "        class_path = os.path.join(base_dir, class_name)\n",
        "        image_files = os.listdir(class_path)\n",
        "        for j in range(min(num_images, len(image_files))):\n",
        "            img_path = os.path.join(class_path, image_files[j])\n",
        "            img = cv2.imread(img_path)\n",
        "            img = cv2.cvtColor(img, cv2.COLOR_BGR2RGB)\n",
        "            axs[i, j].imshow(img)\n",
        "            axs[i, j].axis('off')\n",
        "            axs[i, j].set_title(class_name)\n",
        "\n",
        "    plt.tight_layout()\n",
        "    plt.show()"
      ],
      "metadata": {
        "execution": {
          "iopub.status.busy": "2024-09-18T11:29:44.12526Z",
          "iopub.execute_input": "2024-09-18T11:29:44.125727Z",
          "iopub.status.idle": "2024-09-18T11:29:44.13564Z",
          "shell.execute_reply.started": "2024-09-18T11:29:44.125689Z",
          "shell.execute_reply": "2024-09-18T11:29:44.134483Z"
        },
        "trusted": true,
        "id": "8s9Sb7vCk18c"
      },
      "execution_count": null,
      "outputs": []
    },
    {
      "cell_type": "code",
      "source": [
        "display_img(base_dir)"
      ],
      "metadata": {
        "execution": {
          "iopub.status.busy": "2024-09-18T11:29:44.827859Z",
          "iopub.execute_input": "2024-09-18T11:29:44.828546Z",
          "iopub.status.idle": "2024-09-18T11:29:59.265373Z",
          "shell.execute_reply.started": "2024-09-18T11:29:44.828506Z",
          "shell.execute_reply": "2024-09-18T11:29:59.263632Z"
        },
        "trusted": true,
        "id": "OVE0fGV9k18e"
      },
      "execution_count": null,
      "outputs": []
    },
    {
      "cell_type": "code",
      "source": [
        "files = [f for f in glob.glob(base_dir + \"//*//*\")]\n",
        "np.random.shuffle(files)\n",
        "labels = [os.path.dirname(f).split('/')[-1] for f in files]\n",
        "data = zip(files, labels)\n",
        "df = pd.DataFrame(data, columns=['images', 'labels'])\n",
        "df"
      ],
      "metadata": {
        "execution": {
          "iopub.status.busy": "2024-09-18T14:53:57.624232Z",
          "iopub.execute_input": "2024-09-18T14:53:57.625432Z",
          "iopub.status.idle": "2024-09-18T14:53:57.910288Z",
          "shell.execute_reply.started": "2024-09-18T14:53:57.625378Z",
          "shell.execute_reply": "2024-09-18T14:53:57.909271Z"
        },
        "trusted": true,
        "id": "Nj3mR4cJk18f"
      },
      "execution_count": null,
      "outputs": []
    },
    {
      "cell_type": "code",
      "source": [
        "df['labels'].nunique()"
      ],
      "metadata": {
        "execution": {
          "iopub.status.busy": "2024-09-18T13:15:10.447521Z",
          "iopub.execute_input": "2024-09-18T13:15:10.447977Z",
          "iopub.status.idle": "2024-09-18T13:15:10.458399Z",
          "shell.execute_reply.started": "2024-09-18T13:15:10.447935Z",
          "shell.execute_reply": "2024-09-18T13:15:10.45709Z"
        },
        "trusted": true,
        "id": "W7-_UuGXk18g"
      },
      "execution_count": null,
      "outputs": []
    },
    {
      "cell_type": "code",
      "source": [
        "class_names = np.array(df['labels'].unique())\n",
        "print(class_names)\n",
        "\n",
        "class_to_idx = {class_name: idx for idx, class_name in enumerate(class_names)}\n",
        "print(class_to_idx)"
      ],
      "metadata": {
        "execution": {
          "iopub.status.busy": "2024-09-18T14:54:00.260597Z",
          "iopub.execute_input": "2024-09-18T14:54:00.261279Z",
          "iopub.status.idle": "2024-09-18T14:54:00.272649Z",
          "shell.execute_reply.started": "2024-09-18T14:54:00.261239Z",
          "shell.execute_reply": "2024-09-18T14:54:00.271593Z"
        },
        "trusted": true,
        "id": "A5JIczYsk18h"
      },
      "execution_count": null,
      "outputs": []
    },
    {
      "cell_type": "code",
      "source": [
        "img = cv2.imread(df['images'][0])\n",
        "img = cv2.cvtColor(img, cv2.COLOR_BGR2RGB)\n",
        "\n",
        "print(img.shape)\n",
        "img = cv2.resize(img, (256, 256))\n",
        "plt.imshow(img)\n",
        "plt.show()"
      ],
      "metadata": {
        "execution": {
          "iopub.status.busy": "2024-09-18T12:46:27.297265Z",
          "iopub.execute_input": "2024-09-18T12:46:27.297672Z",
          "iopub.status.idle": "2024-09-18T12:46:27.61694Z",
          "shell.execute_reply.started": "2024-09-18T12:46:27.297635Z",
          "shell.execute_reply": "2024-09-18T12:46:27.615794Z"
        },
        "trusted": true,
        "id": "QxT55MEOk18i"
      },
      "execution_count": null,
      "outputs": []
    },
    {
      "cell_type": "code",
      "source": [
        "train, test = train_test_split(df, test_size=0.2, random_state=42)\n",
        "train, val = train_test_split(train, test_size=0.3, random_state=42)\n",
        "\n",
        "print(train.shape, val.shape, test.shape)"
      ],
      "metadata": {
        "execution": {
          "iopub.status.busy": "2024-09-18T14:54:02.905484Z",
          "iopub.execute_input": "2024-09-18T14:54:02.906205Z",
          "iopub.status.idle": "2024-09-18T14:54:02.923035Z",
          "shell.execute_reply.started": "2024-09-18T14:54:02.906168Z",
          "shell.execute_reply": "2024-09-18T14:54:02.92205Z"
        },
        "trusted": true,
        "id": "hlSl4px7k18j"
      },
      "execution_count": null,
      "outputs": []
    },
    {
      "cell_type": "code",
      "source": [
        "class CustomImageDataset(Dataset):\n",
        "    def __init__(self, df, transform):\n",
        "        self.df = df\n",
        "        self.transform = transform\n",
        "\n",
        "    def __len__(self):\n",
        "        return len(self.df)\n",
        "\n",
        "    def __getitem__(self, idx):\n",
        "        img_path = self.df.iloc[idx, 0]\n",
        "        label = self.df.iloc[idx, 1]\n",
        "        if label in class_to_idx:\n",
        "            label = class_to_idx[label]\n",
        "        else:\n",
        "            raise ValueError(f\"Label {label} not found in class_to_idx dictionary.\")\n",
        "\n",
        "        img = cv2.imread(img_path)\n",
        "        img = cv2.cvtColor(img, cv2.COLOR_BGR2RGB)\n",
        "        img = Image.fromarray(img)\n",
        "\n",
        "        if self.transform:\n",
        "            img = self.transform(img)\n",
        "        return img, label"
      ],
      "metadata": {
        "execution": {
          "iopub.status.busy": "2024-09-18T14:54:03.32943Z",
          "iopub.execute_input": "2024-09-18T14:54:03.329805Z",
          "iopub.status.idle": "2024-09-18T14:54:03.337468Z",
          "shell.execute_reply.started": "2024-09-18T14:54:03.329768Z",
          "shell.execute_reply": "2024-09-18T14:54:03.336463Z"
        },
        "trusted": true,
        "id": "s0NSKKlRk18j"
      },
      "execution_count": null,
      "outputs": []
    },
    {
      "cell_type": "code",
      "source": [
        "data_transforms = {\n",
        "    'train': transforms.Compose([\n",
        "        transforms.Resize((224, 224)),\n",
        "        transforms.ToTensor(),\n",
        "        transforms.Normalize([0.485, 0.456, 0.406], [0.229, 0.224, 0.225])\n",
        "    ]),\n",
        "    'val': transforms.Compose([\n",
        "        transforms.Resize((224, 224)),\n",
        "        transforms.ToTensor(),\n",
        "        transforms.Normalize([0.485, 0.456, 0.406], [0.229, 0.224, 0.225])\n",
        "    ])\n",
        "}\n"
      ],
      "metadata": {
        "execution": {
          "iopub.status.busy": "2024-09-18T14:54:03.78394Z",
          "iopub.execute_input": "2024-09-18T14:54:03.784574Z",
          "iopub.status.idle": "2024-09-18T14:54:03.790617Z",
          "shell.execute_reply.started": "2024-09-18T14:54:03.784537Z",
          "shell.execute_reply": "2024-09-18T14:54:03.789663Z"
        },
        "trusted": true,
        "id": "xx9VNnbIk18k"
      },
      "execution_count": null,
      "outputs": []
    },
    {
      "cell_type": "code",
      "source": [
        "train_dataset = CustomImageDataset(train, transform=data_transforms['train'])\n",
        "val_dataset = CustomImageDataset(val, transform=data_transforms['val'])"
      ],
      "metadata": {
        "execution": {
          "iopub.status.busy": "2024-09-18T14:54:04.210101Z",
          "iopub.execute_input": "2024-09-18T14:54:04.210841Z",
          "iopub.status.idle": "2024-09-18T14:54:04.215376Z",
          "shell.execute_reply.started": "2024-09-18T14:54:04.210802Z",
          "shell.execute_reply": "2024-09-18T14:54:04.214348Z"
        },
        "trusted": true,
        "id": "c09kW-Jck18k"
      },
      "execution_count": null,
      "outputs": []
    },
    {
      "cell_type": "code",
      "source": [
        "dataloaders = {\n",
        "    'train': torch.utils.data.DataLoader(train_dataset, batch_size=4, shuffle=True, num_workers=4),\n",
        "    'val': torch.utils.data.DataLoader(val_dataset, batch_size=4, shuffle=True, num_workers=4)\n",
        "}\n",
        "\n",
        "dataset_sizes = {'train': len(train_dataset), 'val': len(val_dataset)}\n",
        "\n",
        "class_names = df['labels'].unique()\n",
        "class_names"
      ],
      "metadata": {
        "execution": {
          "iopub.status.busy": "2024-09-18T14:54:04.959574Z",
          "iopub.execute_input": "2024-09-18T14:54:04.959929Z",
          "iopub.status.idle": "2024-09-18T14:54:04.971717Z",
          "shell.execute_reply.started": "2024-09-18T14:54:04.959896Z",
          "shell.execute_reply": "2024-09-18T14:54:04.970695Z"
        },
        "trusted": true,
        "id": "Sl2HI1rXk18l"
      },
      "execution_count": null,
      "outputs": []
    },
    {
      "cell_type": "code",
      "source": [
        "def imshow(inp, title=None):\n",
        "    inp = inp.numpy().transpose((1, 2, 0))\n",
        "    mean = np.array([0.485, 0.456, 0.406])\n",
        "    std = np.array([0.229, 0.224, 0.225])\n",
        "    inp = std * inp + mean\n",
        "    inp = np.clip(inp, 0, 1)\n",
        "    plt.imshow(inp)\n",
        "    if title is not None:\n",
        "        plt.title(title)\n",
        "    plt.pause(0.001)  # pause a bit so that plots are updated\n",
        "\n",
        "\n",
        "### getting a batch of training data\n",
        "inputs, classes = next(iter(dataloaders['train']))\n",
        "\n",
        "### making a grid from batch\n",
        "out = torchvision.utils.make_grid(inputs)\n",
        "\n",
        "imshow(out, title=[class_names[x] for x in classes])"
      ],
      "metadata": {
        "execution": {
          "iopub.status.busy": "2024-09-18T14:54:05.098512Z",
          "iopub.execute_input": "2024-09-18T14:54:05.098881Z",
          "iopub.status.idle": "2024-09-18T14:54:05.822769Z",
          "shell.execute_reply.started": "2024-09-18T14:54:05.098846Z",
          "shell.execute_reply": "2024-09-18T14:54:05.821877Z"
        },
        "trusted": true,
        "id": "VMs38Oj3k18l"
      },
      "execution_count": null,
      "outputs": []
    },
    {
      "cell_type": "markdown",
      "source": [
        "## **Training the model**"
      ],
      "metadata": {
        "id": "NZmaZpvyk18l"
      }
    },
    {
      "cell_type": "code",
      "source": [
        "def train(model, criterion, optimizer, scheduler, num_epochs=24):\n",
        "    since = time.time()\n",
        "\n",
        "    # temporary dir to save training checkpoints\n",
        "    with TemporaryDirectory() as tempdir:\n",
        "        best_model_params = os.path.join(tempdir, 'best_model_params.pt')\n",
        "\n",
        "        torch.save(model.state_dict(), best_model_params)\n",
        "        best_acc = 0.0\n",
        "\n",
        "        for epoch in range(num_epochs):\n",
        "            print(f'Epoch {epoch}/{num_epochs - 1}')\n",
        "            print('='*10)\n",
        "\n",
        "            for phase in ['train', 'val']:\n",
        "                if phase == 'train':\n",
        "                    model.train()\n",
        "                else:\n",
        "                    model.eval()\n",
        "\n",
        "                running_loss = 0.0\n",
        "                running_corrects = 0\n",
        "\n",
        "                with tqdm(total=len(dataloaders[phase]), desc=f'{phase} Epoch {epoch + 1}', leave=False) as pbar:\n",
        "                    for inputs, labels in dataloaders[phase]:\n",
        "                        inputs = inputs.to(device)\n",
        "                        labels = labels.to(device)\n",
        "\n",
        "                        optimizer.zero_grad()\n",
        "\n",
        "                        ### forward\n",
        "                        # track history if only in train\n",
        "                        with torch.set_grad_enabled(phase == 'train'):\n",
        "                            outputs = model(inputs)\n",
        "                            _, preds = torch.max(outputs, 1)\n",
        "                            loss = criterion(outputs, labels)\n",
        "\n",
        "                            # backward + optimizer only if in training phase\n",
        "                            if phase == 'train':\n",
        "                                loss.backward()\n",
        "                                optimizer.step()\n",
        "\n",
        "\n",
        "                            ### statistics\n",
        "                        running_loss += loss.item() * inputs.size(0)\n",
        "                        running_corrects += torch.sum(preds == labels.data)\n",
        "\n",
        "                        pbar.update(1)\n",
        "\n",
        "                if phase == 'train':\n",
        "                    scheduler.step()\n",
        "\n",
        "                epoch_loss = running_loss / dataset_sizes[phase]\n",
        "                epoch_acc = running_corrects.double() / dataset_sizes[phase]\n",
        "\n",
        "                print(f'{phase} Loss: {epoch_loss:.4f} Acc: {epoch_acc:.4f}')\n",
        "\n",
        "                # deep copy the model\n",
        "                if phase == 'val' and epoch_acc > best_acc:\n",
        "                    best_acc = epoch_acc\n",
        "                    torch.save(model.state_dict(), best_model_params)\n",
        "\n",
        "            print()\n",
        "\n",
        "        time_elapsed = time.time() - since\n",
        "        print(f'Training complete in {time_elapsed // 60:.0f}m {time_elapsed % 60:.0f}s')\n",
        "        print(f'Best val Acc: {best_acc:4f}')\n",
        "\n",
        "        # load best model weights\n",
        "        model.load_state_dict(torch.load(best_model_params, weights_only=True))\n",
        "    return model\n",
        ""
      ],
      "metadata": {
        "execution": {
          "iopub.status.busy": "2024-09-18T14:54:05.947832Z",
          "iopub.execute_input": "2024-09-18T14:54:05.948202Z",
          "iopub.status.idle": "2024-09-18T14:54:05.962862Z",
          "shell.execute_reply.started": "2024-09-18T14:54:05.948166Z",
          "shell.execute_reply": "2024-09-18T14:54:05.961732Z"
        },
        "trusted": true,
        "id": "yIcBXdCnk18y"
      },
      "execution_count": null,
      "outputs": []
    },
    {
      "cell_type": "markdown",
      "source": [
        "## **Visualizing Model Predictions**"
      ],
      "metadata": {
        "id": "I3yEivJkk18z"
      }
    },
    {
      "cell_type": "code",
      "source": [
        "def visualize_model(model, num_images=6):\n",
        "    was_training = model.training\n",
        "    model.eval()\n",
        "    images_so_far = 0\n",
        "    fig = plt.figure()\n",
        "\n",
        "    with torch.no_grad():\n",
        "        for i, (inputs, labels) in enumerate(dataloaders['val']):\n",
        "            inputs = inputs.to(device)\n",
        "            labels = labels.to(device)\n",
        "\n",
        "            outputs = model(inputs)\n",
        "            _, preds = torch.max(outputs, 1)\n",
        "\n",
        "            for j in range(inputs.size()[0]):\n",
        "                images_so_far += 1\n",
        "                ax = plt.subplot(num_images//2, 2, images_so_far)\n",
        "                ax.axis('off')\n",
        "                ax.set_title(f'predicted: {class_names[preds[j]]}')\n",
        "                imshow(inputs.cpu().data[j])\n",
        "\n",
        "                if images_so_far == num_images:\n",
        "                    model.train(mode=was_training)\n",
        "                    return\n",
        "        model.train(mode=was_training)"
      ],
      "metadata": {
        "execution": {
          "iopub.status.busy": "2024-09-18T14:54:06.910686Z",
          "iopub.execute_input": "2024-09-18T14:54:06.911603Z",
          "iopub.status.idle": "2024-09-18T14:54:06.919653Z",
          "shell.execute_reply.started": "2024-09-18T14:54:06.911561Z",
          "shell.execute_reply": "2024-09-18T14:54:06.918718Z"
        },
        "trusted": true,
        "id": "ytQ4nVR2k18z"
      },
      "execution_count": null,
      "outputs": []
    },
    {
      "cell_type": "markdown",
      "source": [
        "## **Finetuning the ConvNet(Resnet)**"
      ],
      "metadata": {
        "id": "bra2cQDrk180"
      }
    },
    {
      "cell_type": "code",
      "source": [
        "device = torch.device(\"cuda:0\" if torch.cuda.is_available() else \"cpu\")\n",
        "device"
      ],
      "metadata": {
        "execution": {
          "iopub.status.busy": "2024-09-18T14:54:07.739656Z",
          "iopub.execute_input": "2024-09-18T14:54:07.740045Z",
          "iopub.status.idle": "2024-09-18T14:54:07.770249Z",
          "shell.execute_reply.started": "2024-09-18T14:54:07.740009Z",
          "shell.execute_reply": "2024-09-18T14:54:07.769295Z"
        },
        "trusted": true,
        "id": "SwpeKPHNk180"
      },
      "execution_count": null,
      "outputs": []
    },
    {
      "cell_type": "code",
      "source": [
        "model_ft = models.resnet50(weights='IMAGENET1K_V1')\n",
        "num_ftrs = model_ft.fc.in_features\n",
        "\n",
        "model_ft.fc = nn.Linear(num_ftrs, 35)\n",
        "\n",
        "model_ft = model_ft.to(device)\n",
        "\n",
        "criterion = nn.CrossEntropyLoss()\n",
        "optimizer_ft = optim.SGD(model_ft.parameters(), lr=0.0001, momentum=0.9)\n",
        "\n",
        "# decay LR by a factor of 0.1 every 7 epochs\n",
        "exp_lr_scheduler = lr_scheduler.StepLR(optimizer_ft, step_size=7, gamma=0.1)"
      ],
      "metadata": {
        "execution": {
          "iopub.status.busy": "2024-09-18T14:54:08.424121Z",
          "iopub.execute_input": "2024-09-18T14:54:08.425241Z",
          "iopub.status.idle": "2024-09-18T14:54:09.944262Z",
          "shell.execute_reply.started": "2024-09-18T14:54:08.425197Z",
          "shell.execute_reply": "2024-09-18T14:54:09.943388Z"
        },
        "trusted": true,
        "id": "oSaclP2rk180"
      },
      "execution_count": null,
      "outputs": []
    },
    {
      "cell_type": "code",
      "source": [
        "model_ft = train(model_ft, criterion, optimizer_ft, exp_lr_scheduler,\n",
        "                       num_epochs=10)"
      ],
      "metadata": {
        "execution": {
          "iopub.status.busy": "2024-09-18T14:54:10.36791Z",
          "iopub.execute_input": "2024-09-18T14:54:10.368269Z",
          "iopub.status.idle": "2024-09-18T15:36:41.752657Z",
          "shell.execute_reply.started": "2024-09-18T14:54:10.368235Z",
          "shell.execute_reply": "2024-09-18T15:36:41.751444Z"
        },
        "trusted": true,
        "id": "TM140g-nk181"
      },
      "execution_count": null,
      "outputs": []
    },
    {
      "cell_type": "code",
      "source": [
        "visualize_model(model_ft)"
      ],
      "metadata": {
        "execution": {
          "iopub.status.busy": "2024-09-18T15:36:48.672456Z",
          "iopub.execute_input": "2024-09-18T15:36:48.672912Z",
          "iopub.status.idle": "2024-09-18T15:36:49.982648Z",
          "shell.execute_reply.started": "2024-09-18T15:36:48.672871Z",
          "shell.execute_reply": "2024-09-18T15:36:49.981688Z"
        },
        "trusted": true,
        "id": "tvRauotek181"
      },
      "execution_count": null,
      "outputs": []
    },
    {
      "cell_type": "code",
      "source": [
        "### helper function to display the images\n",
        "def imshow(inp, title=None):\n",
        "    inp = inp.numpy().transpose((1, 2, 0))\n",
        "    mean = np.array([0.485, 0.456, 0.406])\n",
        "    std = np.array([0.229, 0.224, 0.225])\n",
        "    inp = std * inp + mean  ### denormalize\n",
        "    inp = np.clip(inp, 0, 1)  # clipping values to [0, 1]\n",
        "\n",
        "    plt.imshow(inp)\n",
        "    if title is not None:\n",
        "        plt.title(title)\n",
        "    plt.pause(0.001)"
      ],
      "metadata": {
        "execution": {
          "iopub.status.busy": "2024-09-18T15:55:37.168397Z",
          "iopub.execute_input": "2024-09-18T15:55:37.16952Z",
          "iopub.status.idle": "2024-09-18T15:55:37.17629Z",
          "shell.execute_reply.started": "2024-09-18T15:55:37.169468Z",
          "shell.execute_reply": "2024-09-18T15:55:37.175312Z"
        },
        "trusted": true,
        "id": "xDAZ71L0k181"
      },
      "execution_count": null,
      "outputs": []
    },
    {
      "cell_type": "markdown",
      "source": [
        "## **Model Evaluation**"
      ],
      "metadata": {
        "id": "n87Wvxudk181"
      }
    },
    {
      "cell_type": "code",
      "source": [
        "def evaluate_and_visualize(model, dataloader, class_names, num_images=8):\n",
        "    model.eval()\n",
        "    all_preds = []\n",
        "    all_labels = []\n",
        "    images_so_far = 0\n",
        "    fig = plt.figure()\n",
        "\n",
        "    with torch.no_grad():  #### disable gradient calculation\n",
        "        for inputs, labels in dataloader:\n",
        "            inputs = inputs.to(device)\n",
        "            labels = labels.to(device)\n",
        "\n",
        "            outputs = model(inputs)\n",
        "            _, preds = torch.max(outputs, 1)\n",
        "\n",
        "            all_preds.extend(preds.cpu().numpy())\n",
        "            all_labels.extend(labels.cpu().numpy())\n",
        "\n",
        "            for i in range(inputs.size(0)):\n",
        "                if images_so_far >= num_images:\n",
        "                    break\n",
        "\n",
        "                images_so_far += 1\n",
        "                ax = plt.subplot(2, 4, images_so_far)\n",
        "                ax.axis('off')\n",
        "\n",
        "                img = inputs[i].cpu()\n",
        "                label = labels[i].cpu().item()\n",
        "                pred = preds[i].cpu().item()\n",
        "\n",
        "                imshow(img, title=f'True: {class_names[label]}\\nPred: {class_names[pred]}')\n",
        "\n",
        "                if images_so_far >= num_images:\n",
        "                    break\n",
        "\n",
        "    accuracy = accuracy_score(all_labels, all_preds)\n",
        "    f1 = f1_score(all_labels, all_preds, average='weighted')\n",
        "\n",
        "    return all_labels, all_preds, accuracy, f1"
      ],
      "metadata": {
        "execution": {
          "iopub.status.busy": "2024-09-18T16:02:45.198771Z",
          "iopub.execute_input": "2024-09-18T16:02:45.199165Z",
          "iopub.status.idle": "2024-09-18T16:02:45.20976Z",
          "shell.execute_reply.started": "2024-09-18T16:02:45.199124Z",
          "shell.execute_reply": "2024-09-18T16:02:45.20876Z"
        },
        "trusted": true,
        "id": "H3w4LrREk182"
      },
      "execution_count": null,
      "outputs": []
    },
    {
      "cell_type": "code",
      "source": [
        "test_dataset = CustomImageDataset(test, data_transforms['val'])\n",
        "test_loader = DataLoader(test_dataset, batch_size=4, shuffle=False, num_workers=4)\n",
        "\n",
        "all_labels, all_preds, accuracy, f1 = evaluate_and_visualize(model_ft, test_loader, class_names, num_images=8)"
      ],
      "metadata": {
        "execution": {
          "iopub.status.busy": "2024-09-18T16:02:45.759759Z",
          "iopub.execute_input": "2024-09-18T16:02:45.760532Z",
          "iopub.status.idle": "2024-09-18T16:03:15.245698Z",
          "shell.execute_reply.started": "2024-09-18T16:02:45.760494Z",
          "shell.execute_reply": "2024-09-18T16:03:15.244664Z"
        },
        "trusted": true,
        "id": "5mUO3mrlk182"
      },
      "execution_count": null,
      "outputs": []
    },
    {
      "cell_type": "code",
      "source": [
        "print('Classification Report:')\n",
        "print(classification_report(all_labels, all_preds, target_names=class_names))\n",
        "print('='*40)\n",
        "print('Confusion Matrix:')\n",
        "print(confusion_matrix(all_labels, all_preds))\n",
        "print('='*40)\n",
        "\n",
        "print('Accuarcy:', accuracy)\n",
        "\n",
        "print('F1 Score: ', f1)"
      ],
      "metadata": {
        "execution": {
          "iopub.status.busy": "2024-09-18T16:03:39.187281Z",
          "iopub.execute_input": "2024-09-18T16:03:39.187729Z",
          "iopub.status.idle": "2024-09-18T16:03:39.221357Z",
          "shell.execute_reply.started": "2024-09-18T16:03:39.187673Z",
          "shell.execute_reply": "2024-09-18T16:03:39.220163Z"
        },
        "trusted": true,
        "id": "w_VQKIbOk182"
      },
      "execution_count": null,
      "outputs": []
    },
    {
      "cell_type": "markdown",
      "source": [
        "## Prediction on Sample Image (Not Included in the given Dataset)"
      ],
      "metadata": {
        "id": "b15UCo4dk183"
      }
    },
    {
      "cell_type": "code",
      "source": [
        "def predict_image(model, image_path, transform, class_names):\n",
        "    model.eval()\n",
        "\n",
        "    image = Image.open(image_path).convert('RGB')\n",
        "    image = transform(image).unsqueeze(0)\n",
        "\n",
        "    image = image.to(device)\n",
        "\n",
        "    with torch.no_grad():\n",
        "        outputs = model(image)\n",
        "        _, predicted = torch.max(outputs, 1)\n",
        "\n",
        "    predicted_class = class_names[predicted.item()]\n",
        "\n",
        "    plt.imshow(Image.open(image_path))\n",
        "    plt.title(f'Predicted: {predicted_class}')\n",
        "    plt.axis('off')\n",
        "    plt.show()"
      ],
      "metadata": {
        "execution": {
          "iopub.status.busy": "2024-09-18T16:01:11.168769Z",
          "iopub.execute_input": "2024-09-18T16:01:11.169541Z",
          "iopub.status.idle": "2024-09-18T16:01:11.176522Z",
          "shell.execute_reply.started": "2024-09-18T16:01:11.1695Z",
          "shell.execute_reply": "2024-09-18T16:01:11.175579Z"
        },
        "trusted": true,
        "id": "tyFgL4zRk183"
      },
      "execution_count": null,
      "outputs": []
    },
    {
      "cell_type": "code",
      "source": [
        "image_path = '/kaggle/input/sampleimage/images.jpg'\n",
        "predict_image(model_ft, image_path, data_transforms['val'], class_names)"
      ],
      "metadata": {
        "execution": {
          "iopub.status.busy": "2024-09-18T16:01:13.465677Z",
          "iopub.execute_input": "2024-09-18T16:01:13.46654Z",
          "iopub.status.idle": "2024-09-18T16:01:13.692222Z",
          "shell.execute_reply.started": "2024-09-18T16:01:13.466499Z",
          "shell.execute_reply": "2024-09-18T16:01:13.691271Z"
        },
        "trusted": true,
        "id": "Rwr4Etnbk183"
      },
      "execution_count": null,
      "outputs": []
    },
    {
      "cell_type": "markdown",
      "source": [
        "---\n",
        "---"
      ],
      "metadata": {
        "id": "LhOudFCak184"
      }
    }
  ]
}